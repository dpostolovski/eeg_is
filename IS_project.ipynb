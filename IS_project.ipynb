{
  "nbformat": 4,
  "nbformat_minor": 0,
  "metadata": {
    "colab": {
      "name": "IS_project.ipynb",
      "provenance": [],
      "collapsed_sections": [],
      "include_colab_link": true
    },
    "kernelspec": {
      "name": "python3",
      "display_name": "Python 3"
    }
  },
  "cells": [
    {
      "cell_type": "markdown",
      "metadata": {
        "id": "view-in-github",
        "colab_type": "text"
      },
      "source": [
        "<a href=\"https://colab.research.google.com/github/dpostolovski/eeg_is/blob/master/IS_project.ipynb\" target=\"_parent\"><img src=\"https://colab.research.google.com/assets/colab-badge.svg\" alt=\"Open In Colab\"/></a>"
      ]
    },
    {
      "cell_type": "markdown",
      "metadata": {
        "id": "wBqW8_NNlAgz",
        "colab_type": "text"
      },
      "source": [
        "<h1>\n",
        "  <img alt=\"FINKI **LOGO**\" height=\"30px\" src=\"https://www.finki.ukim.mk/Content/dataImages/downloads/logo-large-500x500_2.png\" hspace=\"10px\" vspace=\"0px\">\n",
        "  Интелигентни системи - Лабораториска вежба 2 (Претпроцесирање)\n",
        "</h1>\n",
        "<center><h3><i>Група 5<i><h3></center>\n",
        "\n",
        "---\n",
        "\n"
      ]
    },
    {
      "cell_type": "code",
      "metadata": {
        "id": "UTx3XQgUOhCX",
        "colab_type": "code",
        "colab": {},
        "cellView": "form"
      },
      "source": [
        "#@title Монтирање на Google Drive податочниот систем\n",
        "from google.colab import drive\n",
        "drive.mount('/content/drive')"
      ],
      "execution_count": 0,
      "outputs": []
    },
    {
      "cell_type": "code",
      "metadata": {
        "id": "rLrrPj8clKjP",
        "colab_type": "code",
        "colab": {},
        "cellView": "form"
      },
      "source": [
        "#@title Инсталирање и вчитување на потребните библиотеки\n",
        "\n",
        "# Библиотека за истражување, визуелизација и анализирање на човечки \n",
        "# неврофизиолошки податоци (EEG, sEEG и др)\n",
        "!pip install mne \n",
        "!pip install termcolor\n",
        "\n",
        "import numpy as np\n",
        "from scipy.io import loadmat\n",
        "import matplotlib.pyplot as plt\n",
        "from datetime import datetime, date, time\n",
        "import pandas as pd\n",
        "from termcolor import colored"
      ],
      "execution_count": 0,
      "outputs": []
    },
    {
      "cell_type": "markdown",
      "metadata": {
        "id": "qFQrid4jlFwH",
        "colab_type": "text"
      },
      "source": [
        "## Вчитување на податоците\n",
        "Податоците ги вчитуваме во променливата data. Вчитаните податоци се претставени со тридимензионална матрица со димензии 8 канали X 350 епохи X 1600 настани, но за потребите на mne библиотеката првите две димензии треба да ги замениме."
      ]
    },
    {
      "cell_type": "code",
      "metadata": {
        "id": "9hj0HEEqPVBa",
        "colab_type": "code",
        "colab": {}
      },
      "source": [
        "# Вчитување на податоците\n",
        "data = loadmat('drive/My Drive/Интелигентни Системи/Data/S01-Train/trainData.mat')['trainData'] \n",
        "\n",
        "# Вчитување на label-ите\n",
        "labels_arr = []\n",
        "with open(\"drive/My Drive/Интелигентни Системи/Data/S01-Train/trainLabels.txt\", \"r\") as file_labels:\n",
        "    labels_arr = file_labels.read().splitlines()\n",
        "\n",
        "# Вчитување на редоследот на светкање\n",
        "events_arr = []\n",
        "with open(\"drive/My Drive/Интелигентни Системи/Data/S01-Train/trainEvents.txt\", \"r\") as file_labels:\n",
        "    events_arr = file_labels.read().splitlines()\n",
        "\n",
        "# Вчитување на редоследот на објекти кои се target\n",
        "targets_arr = []\n",
        "with open(\"drive/My Drive/Интелигентни Системи/Data/S01-Train/trainTargets.txt\", \"r\") as file_labels:\n",
        "    targets_arr = file_labels.read().splitlines()\n",
        "\n",
        "# Прилагодување на податоците за користење со mne библиотеката\n",
        "ch_names = [\"C3\", \"Cz\", \"C4\", \"CPz\", \"P3\", \"Pz\", \"P4\", \"POz\"]\n",
        "ch_types = ['eeg','eeg','eeg','eeg','eeg','eeg','eeg','eeg']\n",
        "mne_info = mne.create_info(ch_names=ch_names, sfreq=250, ch_types=ch_types)\n",
        "mne_array = np.swapaxes(data, 0, 1) # (епохa, канал, настан). \n",
        "raw_data = mne.epochs.EpochsArray(mne_array, mne_info)\n",
        "\n",
        "if data.shape[0] == 8:\n",
        "  print(\"Податоците се успешно вчитани.\")\n",
        "else:\n",
        "  print(\"Настана грешка во вчитувањето на податоците.\")"
      ],
      "execution_count": 0,
      "outputs": []
    },
    {
      "cell_type": "markdown",
      "metadata": {
        "id": "cfMZvSyt28g9",
        "colab_type": "text"
      },
      "source": [
        "## Визуелизација на податоците"
      ]
    },
    {
      "cell_type": "code",
      "metadata": {
        "id": "VTcvc3zf8Kib",
        "colab_type": "code",
        "colab": {},
        "cellView": "form"
      },
      "source": [
        "#@title Локација на сензорите\n",
        "#@markdown Може да се забележи дека каналите кои ги отчитуваме се наоѓаат во средниот и задниот дел на мозокот.\n",
        "montage = mne.channels.make_standard_montage(\"standard_alphabetic\")\n",
        "montage.plot();"
      ],
      "execution_count": 0,
      "outputs": []
    },
    {
      "cell_type": "code",
      "metadata": {
        "id": "rMKdeZBKf2G3",
        "colab_type": "code",
        "colab": {},
        "cellView": "form"
      },
      "source": [
        "#@title Визуелизација на EEG сигналите во 175 епоха.\n",
        "#@markdown 1. Визуелизација на EEG податоците по канали.\n",
        "#@markdown 2. Power Spectrum Density на 175-тата епоха. \n",
        "#@markdown * Ја избравме оваа епоха бидејќи\n",
        "#@markdown тука сигналите би биле најстабилни за објектот кој светка.\n",
        "\n",
        "epoch = mne_array[175]\n",
        "raw = mne.io.RawArray(epoch, mne_info)\n",
        "\n",
        "raw.plot(n_channels=8, scalings=dict(eeg=60), title='EEG Signals',\n",
        "         show=True, block=True, color = dict(eeg='blue'))\n",
        "raw.plot_psd(area_mode='range', show=False, average=True)"
      ],
      "execution_count": 0,
      "outputs": []
    },
    {
      "cell_type": "code",
      "metadata": {
        "id": "I4_WKbfszWbP",
        "colab_type": "code",
        "colab": {},
        "cellView": "form"
      },
      "source": [
        "#@title Визуелизирана споредба на EEG податоците при светкање на првиот и последниот објект  \n",
        "#@markdown Во првиот случај вршиме споредба на EEG податоците кога првиот и последниот, \n",
        "#@markdown објектот светнал без разлика дали бил target, додека во вториот случај ги споредуваме\n",
        "#@markdown EEG податоците за случаи кога тие објекти светнале, но воедно биле и target објекти.\n",
        "\n",
        "# Извлекување на настаните каде светнал првиот објект.\n",
        "first_object_events = [index for index, value in enumerate(events_arr) if value == '1']\n",
        "first_object_eeg_data = np.zeros((8,350, len(first_object_events)))\n",
        "for channel in range(0, 8): # Секој канал\n",
        "  for epoch in range(0, 350): # Секоја епоха\n",
        "    i = 0\n",
        "    for event in first_object_events: # Настан\n",
        "      first_object_eeg_data[channel][epoch][i] = data[channel][epoch][event]\n",
        "      i = i+1\n",
        "\n",
        "# Креирање на соодветна дводимензионална низа за mne библиотеката\n",
        "mne_first_obj_array = np.swapaxes(first_object_eeg_data, 0, 1) # (епохa, канал, настан).\n",
        "epoch = mne_first_obj_array[175] \n",
        "first_object_raw = mne.io.RawArray(epoch, mne_info)\n",
        "\n",
        "\n",
        "\n",
        "\n",
        "\n",
        "# Извлекување на настаните каде светнал првиот објект и бил target.\n",
        "first_object_events_target = [index for index, value in enumerate(events_arr) if value == '1']\n",
        "for event_pos in first_object_events_target:\n",
        "  if targets_arr[event_pos] == 1:\n",
        "    continue # Продолжи\n",
        "  else:\n",
        "    first_object_events_target.remove(event_pos) # Избриши -> Објектот не е target\n",
        "first_object_target_eeg_data = np.zeros((8,350, len(first_object_events_target)))\n",
        "for channel in range(0, 8): # Секој канал\n",
        "  for epoch in range(0, 350): # Секоја епоха\n",
        "    i = 0\n",
        "    for event in first_object_events_target: # Настан\n",
        "      first_object_target_eeg_data[channel][epoch][i] = data[channel][epoch][event]\n",
        "      i = i+1\n",
        "\n",
        "# Креирање на соодветна дводимензионална низа за mne библиотеката\n",
        "mne_first_obj_target_array = np.swapaxes(first_object_target_eeg_data, 0, 1) # (епохa, канал, настан).\n",
        "epoch = mne_first_obj_target_array[175] \n",
        "first_object_target_raw = mne.io.RawArray(epoch, mne_info)\n",
        "\n",
        "\n",
        "\n",
        "\n",
        "\n",
        "# Извлекување на настаните каде светнал последниот објект.\n",
        "last_object_events = [index for index, value in enumerate(events_arr) if value == '8']\n",
        "last_object_eeg_data = np.zeros((8,350, len(last_object_events)))\n",
        "for channel in range(0, 8): # Секој канал\n",
        "  for epoch in range(0, 350): # Секоја епоха\n",
        "    i = 0\n",
        "    for event in last_object_events: # Настан\n",
        "      last_object_eeg_data[channel][epoch][i] = data[channel][epoch][event]\n",
        "      i = i+1\n",
        "\n",
        "# Креирање на соодветна дводимензионална низа за mne библиотеката\n",
        "mne_last_obj_array = np.swapaxes(last_object_eeg_data, 0, 1) # (епохa, канал, настан).\n",
        "epoch = mne_last_obj_array[175] \n",
        "last_object_raw = mne.io.RawArray(epoch, mne_info)\n",
        "\n",
        "\n",
        "\n",
        "\n",
        "\n",
        "# Извлекување на настаните каде светнал последниот објект и бил target.\n",
        "last_object_events_target = [index for index, value in enumerate(events_arr) if value == '8']\n",
        "for event_pos in last_object_events_target:\n",
        "  if targets_arr[event_pos] == 1:\n",
        "    continue # Продолжи\n",
        "  else:\n",
        "    last_object_events_target.remove(event_pos) # Избриши -> Објектот не е target\n",
        "last_object_target_eeg_data = np.zeros((8,350, len(last_object_events_target)))\n",
        "for channel in range(0, 8): # Секој канал\n",
        "  for epoch in range(0, 350): # Секоја епоха\n",
        "    i = 0\n",
        "    for event in last_object_events_target: # Настан\n",
        "      last_object_target_eeg_data[channel][epoch][i] = data[channel][epoch][event]\n",
        "      i = i+1\n",
        "      \n",
        "# Креирање на соодветна дводимензионална низа за mne библиотеката\n",
        "mne_last_obj_target_array = np.swapaxes(last_object_target_eeg_data, 0, 1) # (епохa, канал, настан).\n",
        "epoch = mne_last_obj_target_array[175] \n",
        "last_object_target_raw = mne.io.RawArray(epoch, mne_info)\n",
        "\n",
        "\n",
        "\n",
        "\n",
        "\n",
        "# Исцртување и печатење\n",
        "print(\"\\n\\n\")\n",
        "print(colored('====== ПРВ ОБЈЕКТ - Книги на полица ======', 'red'))\n",
        "print(colored(\"Вкупно светнал: \" + str(len(first_object_events)), 'blue'))\n",
        "print(colored(\"Вкупно светнал и бил target: \" + str(len(first_object_events_target)), 'blue'))\n",
        "print(\"\\n\")\n",
        "print(colored('====== ПОСЛЕДЕН ОБЈЕКТ - Слика закачена на ѕид ======', 'red'))\n",
        "print(colored(\"Вкупно светнал: \" + str(len(last_object_events)), 'blue'))\n",
        "print(colored(\"Вкупно светнал и бил target: \" + str(len(last_object_events_target)), 'blue'))\n",
        "print(\"\\n\")\n",
        "print(colored('====== Графици со EEG податоци кога светнале првиот и последниот објект  ======', 'green'))\n",
        "first_object_raw.plot(n_channels=8, scalings=dict(eeg=50), title='EEG Signals',\n",
        "         show=True, block=True, color = dict(eeg='blue'));\n",
        "last_object_raw.plot(n_channels=8, scalings=dict(eeg=50), title='EEG Signals',\n",
        "         show=True, block=True, color = dict(eeg='blue'));\n",
        "print(\"\\n\")\n",
        "print(colored('====== Графици со EEG податоци кога светнале првиот и последниот објект и биле target  ======', 'green'))\n",
        "first_object_raw.plot(n_channels=8, scalings=dict(eeg=50), title='EEG Signals',\n",
        "         show=True, block=True, color = dict(eeg='blue'));\n",
        "last_object_raw.plot(n_channels=8, scalings=dict(eeg=50), title='EEG Signals',\n",
        "         show=True, block=True, color = dict(eeg='blue'));"
      ],
      "execution_count": 0,
      "outputs": []
    }
  ]
}