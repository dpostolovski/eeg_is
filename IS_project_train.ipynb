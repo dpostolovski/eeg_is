{
  "nbformat": 4,
  "nbformat_minor": 0,
  "metadata": {
    "colab": {
      "name": "IS_project.ipynb",
      "provenance": [],
      "collapsed_sections": [],
      "toc_visible": true,
      "include_colab_link": true
    },
    "kernelspec": {
      "name": "python3",
      "display_name": "Python 3"
    },
    "accelerator": "GPU"
  },
  "cells": [
    {
      "cell_type": "markdown",
      "metadata": {
        "id": "view-in-github",
        "colab_type": "text"
      },
      "source": [
        "<a href=\"https://colab.research.google.com/github/dpostolovski/eeg_is/blob/fourier_analysis/IS_project_train.ipynb\" target=\"_parent\"><img src=\"https://colab.research.google.com/assets/colab-badge.svg\" alt=\"Open In Colab\"/></a>"
      ]
    },
    {
      "cell_type": "markdown",
      "metadata": {
        "id": "wBqW8_NNlAgz",
        "colab_type": "text"
      },
      "source": [
        "<h1>\n",
        "  <img alt=\"FINKI **LOGO**\" height=\"30px\" src=\"https://www.finki.ukim.mk/Content/dataImages/downloads/logo-large-500x500_2.png\" hspace=\"10px\" vspace=\"0px\">\n",
        "  Интелигентни системи - Лабораториска вежба 2 (Претпроцесирање)\n",
        "</h1>\n",
        "<center><h3><i>Група 5<i><h3></center>\n",
        "\n",
        "---\n",
        "\n"
      ]
    },
    {
      "cell_type": "code",
      "metadata": {
        "id": "UTx3XQgUOhCX",
        "colab_type": "code",
        "cellView": "form",
        "outputId": "f78f9067-40cb-4c51-d8f9-1d51dfd2edd0",
        "colab": {
          "base_uri": "https://localhost:8080/",
          "height": 129
        }
      },
      "source": [
        "#@title Монтирање на Google Drive податочниот систем\n",
        "from google.colab import drive\n",
        "drive.mount('/content/drive')"
      ],
      "execution_count": 5,
      "outputs": [
        {
          "output_type": "stream",
          "text": [
            "Go to this URL in a browser: https://accounts.google.com/o/oauth2/auth?client_id=947318989803-6bn6qk8qdgf4n4g3pfee6491hc0brc4i.apps.googleusercontent.com&redirect_uri=urn%3aietf%3awg%3aoauth%3a2.0%3aoob&response_type=code&scope=email%20https%3a%2f%2fwww.googleapis.com%2fauth%2fdocs.test%20https%3a%2f%2fwww.googleapis.com%2fauth%2fdrive%20https%3a%2f%2fwww.googleapis.com%2fauth%2fdrive.photos.readonly%20https%3a%2f%2fwww.googleapis.com%2fauth%2fpeopleapi.readonly\n",
            "\n",
            "Enter your authorization code:\n",
            "··········\n",
            "Mounted at /content/drive\n"
          ],
          "name": "stdout"
        }
      ]
    },
    {
      "cell_type": "code",
      "metadata": {
        "id": "rLrrPj8clKjP",
        "colab_type": "code",
        "cellView": "both",
        "outputId": "47d08cec-322e-4569-b36c-66f2dfebc5fd",
        "colab": {
          "base_uri": "https://localhost:8080/",
          "height": 164
        }
      },
      "source": [
        "#@title Инсталирање и вчитување на потребните библиотеки\n",
        "\n",
        "# Библиотека за истражување, визуелизација и анализирање на човечки \n",
        "# неврофизиолошки податоци (EEG, sEEG и др)\n",
        "!pip install mne \n",
        "!pip install termcolor\n",
        "\n",
        "import numpy as np\n",
        "from scipy.io import loadmat\n",
        "import matplotlib.pyplot as plt\n",
        "from datetime import datetime, date, time\n",
        "import pandas as pd\n",
        "from termcolor import colored\n",
        "import mne\n",
        "from sklearn.decomposition import PCA, FastICA"
      ],
      "execution_count": 7,
      "outputs": [
        {
          "output_type": "stream",
          "text": [
            "Collecting mne\n",
            "\u001b[?25l  Downloading https://files.pythonhosted.org/packages/a2/1a/8fd2d3b0065597f4aafe9d90eb62db0d40547f818f128349c6878b657302/mne-0.20.3-py3-none-any.whl (6.6MB)\n",
            "\u001b[K     |████████████████████████████████| 6.6MB 5.7MB/s \n",
            "\u001b[?25hRequirement already satisfied: numpy>=1.11.3 in /usr/local/lib/python3.6/dist-packages (from mne) (1.18.3)\n",
            "Requirement already satisfied: scipy>=0.17.1 in /usr/local/lib/python3.6/dist-packages (from mne) (1.4.1)\n",
            "Installing collected packages: mne\n",
            "Successfully installed mne-0.20.3\n",
            "Requirement already satisfied: termcolor in /usr/local/lib/python3.6/dist-packages (1.1.0)\n"
          ],
          "name": "stdout"
        }
      ]
    },
    {
      "cell_type": "code",
      "metadata": {
        "colab_type": "code",
        "id": "NeWVBhf1VxlH",
        "outputId": "248fd9ac-47f1-4718-83d0-5ce924782a2e",
        "colab": {
          "base_uri": "https://localhost:8080/",
          "height": 109
        }
      },
      "source": [
        "%tensorflow_version 1.12.0"
      ],
      "execution_count": 3,
      "outputs": [
        {
          "output_type": "stream",
          "text": [
            "`%tensorflow_version` only switches the major version: 1.x or 2.x.\n",
            "You set: `1.12.0`. This will be interpreted as: `1.x`.\n",
            "\n",
            "\n",
            "TensorFlow is already loaded. Please restart the runtime to change versions.\n"
          ],
          "name": "stdout"
        }
      ]
    },
    {
      "cell_type": "code",
      "metadata": {
        "id": "PBEiowYKtnPJ",
        "colab_type": "code",
        "colab": {
          "base_uri": "https://localhost:8080/",
          "height": 219
        },
        "outputId": "76d5aba1-becd-4cdd-e638-5c57a3ccaf7b"
      },
      "source": [
        "!wget \"https://raw.githubusercontent.com/vlawhern/arl-eegmodels/master/EEGModels.py\""
      ],
      "execution_count": 2,
      "outputs": [
        {
          "output_type": "stream",
          "text": [
            "--2020-05-07 20:19:55--  https://raw.githubusercontent.com/vlawhern/arl-eegmodels/master/EEGModels.py\n",
            "Resolving raw.githubusercontent.com (raw.githubusercontent.com)... 151.101.0.133, 151.101.64.133, 151.101.128.133, ...\n",
            "Connecting to raw.githubusercontent.com (raw.githubusercontent.com)|151.101.0.133|:443... connected.\n",
            "HTTP request sent, awaiting response... 200 OK\n",
            "Length: 18283 (18K) [text/plain]\n",
            "Saving to: ‘EEGModels.py’\n",
            "\n",
            "\rEEGModels.py          0%[                    ]       0  --.-KB/s               \rEEGModels.py        100%[===================>]  17.85K  --.-KB/s    in 0.005s  \n",
            "\n",
            "2020-05-07 20:19:55 (3.20 MB/s) - ‘EEGModels.py’ saved [18283/18283]\n",
            "\n"
          ],
          "name": "stdout"
        }
      ]
    },
    {
      "cell_type": "code",
      "metadata": {
        "colab_type": "code",
        "outputId": "a5f2bd12-c089-4397-ca6d-1454f1555458",
        "id": "-JYssfepBMvl",
        "colab": {
          "base_uri": "https://localhost:8080/",
          "height": 1000
        }
      },
      "source": [
        "#@title Fourier analysis\n",
        "# Вчитување на податоците\n",
        "\n",
        "from sklearn import metrics \n",
        "import matplotlib.pyplot as plt\n",
        "from tensorflow.keras.callbacks import ModelCheckpoint \n",
        "from sklearn.model_selection import train_test_split\n",
        "from EEGModels import EEGNet,ShallowConvNet\n",
        "import scipy.io as sio\n",
        "from scipy.fft import fft\n",
        "from scipy import signal\n",
        "from tensorflow.keras.utils import to_categorical\n",
        "import os\n",
        "from tensorflow.keras import backend as K\n",
        "K.set_image_data_format('channels_first')\n",
        "data = sio.loadmat('drive/My Drive/Интелигентни Системи/Data/SBJ01/S01-Train/trainData.mat')['trainData'] \n",
        "\n",
        "\n",
        "print(open(\"/root/.keras/keras.json\").read())\n",
        "\n",
        "# Вчитување на label-ите\n",
        "labels_arr = []\n",
        "with open(\"drive/My Drive/Интелигентни Системи/Data/SBJ01/S01-Train/trainLabels.txt\", \"r\") as file_labels:\n",
        "    labels_arr = file_labels.read().splitlines()\n",
        "\n",
        "# Вчитување на редоследот на светкање\n",
        "events_arr = []\n",
        "with open(\"drive/My Drive/Интелигентни Системи/Data/SBJ01/S01-Train/trainEvents.txt\", \"r\") as file_events:\n",
        "    events_arr = file_events.read().splitlines()\n",
        "\n",
        "# Вчитување на редоследот на објекти кои се target\n",
        "targets_arr = []\n",
        "with open(\"drive/My Drive/Интелигентни Системи/Data/SBJ01/S01-Train/trainTargets.txt\", \"r\") as file_targets:\n",
        "    targets_arr = file_targets.read().splitlines()\n",
        "\n",
        "# Прилагодување на податоците за користење со mne библиотеката\n",
        "ch_names = [\"C3\", \"Cz\", \"C4\", \"CPz\", \"P3\", \"Pz\", \"P4\", \"POz\"]\n",
        "ch_types = ['eeg','eeg','eeg','eeg','eeg','eeg','eeg','eeg']\n",
        "\n",
        "mne_array = np.swapaxes(data, 0, 2) # (епохa, канал, настан). \n",
        "mne_array = np.swapaxes(mne_array, 1, 2) # (епохa, канал, настан). \n",
        "#raw_data = mne.epochs.EpochsArray(mne_array, mne_info)\n",
        "\n",
        "if data.shape[0] == 8:\n",
        "  print(\"Податоците се успешно вчитани.\")\n",
        "else:\n",
        "  print(\"Настана грешка во вчитувањето на податоците.\")\n",
        "\n",
        "mne_array = standardized_data.reshape([1600,1,8, 350])\n",
        "print(mne_array.shape)\n",
        "\n",
        "#stft = mne.time_frequency.stft(mne_array[0], 24)\n",
        "\n",
        "# Number of sample points\n",
        "\n",
        "FS = 250\n",
        "N = 350\n",
        "# sample spacing\n",
        "T = 1.0 / FS\n",
        "x = np.linspace(0.0, N*T, N)\n",
        "num_labels= 8\n",
        "#plt.plot(mne_array[2][2], np.linspace(0.0,N,N))\n",
        "\n",
        "#fig, axs = plt.subplots(8,8, figsize=(4*8,4*8))\n",
        "#freq_data = list()\n",
        "#for i in range(8):\n",
        "#  for x in range(8):\n",
        "#    f, t, Sxx = signal.spectrogram(mne_array[x][i], fs=FS, nperseg=50, window=('hamming'), noverlap=35)\n",
        "#    freq_data.append(Sxx)\n",
        "#    axs[i,x].pcolormesh(t, f, Sxx)\n",
        "#plt.show()\n",
        "#print(open(\"~/keras/keras.json\").read())\n",
        "\n",
        "#events_arr = list(map(int, events_arr))\n",
        "\n",
        "\n",
        "X_train, X_test, y_train, y_test = train_test_split(mne_array, events_arr, test_size=0.33, random_state=42)\n",
        "\n",
        "\n",
        "#y_train = np.array(y_train)\n",
        "y_train = to_categorical(y_train)\n",
        "#y_test = np.array(y_test)\n",
        "y_test = to_categorical(y_test)\n",
        "# Construct model \n",
        "\n",
        "\n",
        "num_epochs = 50\n",
        "num_batch_size = 10\n",
        "\n",
        "model = EEGNet(nb_classes = 9, Chans = 8, Samples = 350)\n",
        "model.compile(loss = 'categorical_crossentropy', metrics=['accuracy'],optimizer = 'adam')\n",
        "checkpointer = ModelCheckpoint(filepath='saved_models/weights.best.basic_mlp.hdf5', \n",
        "                               verbose=1, save_best_only=True)\n",
        "\n",
        "start = datetime.now()\n",
        "\n",
        "model.fit(X_train, y_train, batch_size=num_batch_size, epochs=num_epochs, \\\n",
        "          validation_data=(X_test, y_test),callbacks=[checkpointer], verbose=1)\n",
        "\n",
        "score = model.evaluate(X_test, y_test, verbose=1)\n",
        "#preds = model.predict(X_test, verbose=0)\n",
        "#acc = accuracy_score(y_test, preds)\n",
        "\n",
        "print(\"accuracy_score: {f}\".format(f=score))\n"
      ],
      "execution_count": 30,
      "outputs": [
        {
          "output_type": "stream",
          "text": [
            "{\n",
            "    \"epsilon\": 1e-07, \n",
            "    \"floatx\": \"float32\", \n",
            "    \"image_data_format\": \"channels_last\", \n",
            "    \"backend\": \"tensorflow\"\n",
            "}\n",
            "Податоците се успешно вчитани.\n",
            "(1600, 1, 8, 350)\n",
            "Epoch 1/50\n",
            "103/108 [===========================>..] - ETA: 0s - loss: 2.1641 - accuracy: 0.1291\n",
            "Epoch 00001: val_loss improved from inf to 2.16962, saving model to saved_models/weights.best.basic_mlp.hdf5\n",
            "108/108 [==============================] - 1s 10ms/step - loss: 2.1638 - accuracy: 0.1297 - val_loss: 2.1696 - val_accuracy: 0.1477\n",
            "Epoch 2/50\n",
            "104/108 [===========================>..] - ETA: 0s - loss: 2.1151 - accuracy: 0.1663\n",
            "Epoch 00002: val_loss improved from 2.16962 to 2.13560, saving model to saved_models/weights.best.basic_mlp.hdf5\n",
            "108/108 [==============================] - 1s 9ms/step - loss: 2.1152 - accuracy: 0.1651 - val_loss: 2.1356 - val_accuracy: 0.1610\n",
            "Epoch 3/50\n",
            "104/108 [===========================>..] - ETA: 0s - loss: 2.0838 - accuracy: 0.1952\n",
            "Epoch 00003: val_loss improved from 2.13560 to 2.12263, saving model to saved_models/weights.best.basic_mlp.hdf5\n",
            "108/108 [==============================] - 1s 9ms/step - loss: 2.0849 - accuracy: 0.1931 - val_loss: 2.1226 - val_accuracy: 0.1534\n",
            "Epoch 4/50\n",
            "104/108 [===========================>..] - ETA: 0s - loss: 2.0688 - accuracy: 0.1952\n",
            "Epoch 00004: val_loss improved from 2.12263 to 2.10533, saving model to saved_models/weights.best.basic_mlp.hdf5\n",
            "108/108 [==============================] - 1s 9ms/step - loss: 2.0720 - accuracy: 0.1940 - val_loss: 2.1053 - val_accuracy: 0.1742\n",
            "Epoch 5/50\n",
            "103/108 [===========================>..] - ETA: 0s - loss: 2.0615 - accuracy: 0.1932\n",
            "Epoch 00005: val_loss improved from 2.10533 to 2.09867, saving model to saved_models/weights.best.basic_mlp.hdf5\n",
            "108/108 [==============================] - 1s 8ms/step - loss: 2.0614 - accuracy: 0.1903 - val_loss: 2.0987 - val_accuracy: 0.1553\n",
            "Epoch 6/50\n",
            "104/108 [===========================>..] - ETA: 0s - loss: 2.0449 - accuracy: 0.1981\n",
            "Epoch 00006: val_loss did not improve from 2.09867\n",
            "108/108 [==============================] - 1s 8ms/step - loss: 2.0475 - accuracy: 0.1978 - val_loss: 2.1064 - val_accuracy: 0.1439\n",
            "Epoch 7/50\n",
            "103/108 [===========================>..] - ETA: 0s - loss: 2.0389 - accuracy: 0.1942\n",
            "Epoch 00007: val_loss improved from 2.09867 to 2.09410, saving model to saved_models/weights.best.basic_mlp.hdf5\n",
            "108/108 [==============================] - 1s 9ms/step - loss: 2.0395 - accuracy: 0.1903 - val_loss: 2.0941 - val_accuracy: 0.1780\n",
            "Epoch 8/50\n",
            "103/108 [===========================>..] - ETA: 0s - loss: 2.0314 - accuracy: 0.2058\n",
            "Epoch 00008: val_loss improved from 2.09410 to 2.08346, saving model to saved_models/weights.best.basic_mlp.hdf5\n",
            "108/108 [==============================] - 1s 8ms/step - loss: 2.0312 - accuracy: 0.2099 - val_loss: 2.0835 - val_accuracy: 0.1723\n",
            "Epoch 9/50\n",
            "103/108 [===========================>..] - ETA: 0s - loss: 2.0211 - accuracy: 0.2078\n",
            "Epoch 00009: val_loss did not improve from 2.08346\n",
            "108/108 [==============================] - 1s 8ms/step - loss: 2.0202 - accuracy: 0.2062 - val_loss: 2.0880 - val_accuracy: 0.1780\n",
            "Epoch 10/50\n",
            "102/108 [===========================>..] - ETA: 0s - loss: 2.0262 - accuracy: 0.2216\n",
            "Epoch 00010: val_loss improved from 2.08346 to 2.07787, saving model to saved_models/weights.best.basic_mlp.hdf5\n",
            "108/108 [==============================] - 1s 9ms/step - loss: 2.0243 - accuracy: 0.2248 - val_loss: 2.0779 - val_accuracy: 0.1970\n",
            "Epoch 11/50\n",
            "103/108 [===========================>..] - ETA: 0s - loss: 2.0071 - accuracy: 0.2369\n",
            "Epoch 00011: val_loss improved from 2.07787 to 2.06990, saving model to saved_models/weights.best.basic_mlp.hdf5\n",
            "108/108 [==============================] - 1s 9ms/step - loss: 2.0032 - accuracy: 0.2416 - val_loss: 2.0699 - val_accuracy: 0.1799\n",
            "Epoch 12/50\n",
            "103/108 [===========================>..] - ETA: 0s - loss: 2.0015 - accuracy: 0.2320\n",
            "Epoch 00012: val_loss did not improve from 2.06990\n",
            "108/108 [==============================] - 1s 11ms/step - loss: 1.9995 - accuracy: 0.2313 - val_loss: 2.0758 - val_accuracy: 0.1932\n",
            "Epoch 13/50\n",
            "103/108 [===========================>..] - ETA: 0s - loss: 2.0024 - accuracy: 0.2330\n",
            "Epoch 00013: val_loss did not improve from 2.06990\n",
            "108/108 [==============================] - 1s 8ms/step - loss: 2.0038 - accuracy: 0.2323 - val_loss: 2.0787 - val_accuracy: 0.1705\n",
            "Epoch 14/50\n",
            "103/108 [===========================>..] - ETA: 0s - loss: 1.9963 - accuracy: 0.2340\n",
            "Epoch 00014: val_loss improved from 2.06990 to 2.05584, saving model to saved_models/weights.best.basic_mlp.hdf5\n",
            "108/108 [==============================] - 1s 8ms/step - loss: 1.9983 - accuracy: 0.2341 - val_loss: 2.0558 - val_accuracy: 0.2027\n",
            "Epoch 15/50\n",
            "104/108 [===========================>..] - ETA: 0s - loss: 1.9857 - accuracy: 0.2317\n",
            "Epoch 00015: val_loss did not improve from 2.05584\n",
            "108/108 [==============================] - 1s 8ms/step - loss: 1.9858 - accuracy: 0.2341 - val_loss: 2.0626 - val_accuracy: 0.1799\n",
            "Epoch 16/50\n",
            "103/108 [===========================>..] - ETA: 0s - loss: 1.9839 - accuracy: 0.2398\n",
            "Epoch 00016: val_loss did not improve from 2.05584\n",
            "108/108 [==============================] - 1s 9ms/step - loss: 1.9864 - accuracy: 0.2379 - val_loss: 2.0698 - val_accuracy: 0.1932\n",
            "Epoch 17/50\n",
            "105/108 [============================>.] - ETA: 0s - loss: 1.9898 - accuracy: 0.2305\n",
            "Epoch 00017: val_loss did not improve from 2.05584\n",
            "108/108 [==============================] - 1s 8ms/step - loss: 1.9876 - accuracy: 0.2313 - val_loss: 2.0638 - val_accuracy: 0.1875\n",
            "Epoch 18/50\n",
            "104/108 [===========================>..] - ETA: 0s - loss: 1.9850 - accuracy: 0.2337\n",
            "Epoch 00018: val_loss did not improve from 2.05584\n",
            "108/108 [==============================] - 1s 8ms/step - loss: 1.9822 - accuracy: 0.2397 - val_loss: 2.0636 - val_accuracy: 0.1951\n",
            "Epoch 19/50\n",
            "108/108 [==============================] - ETA: 0s - loss: 1.9781 - accuracy: 0.2304\n",
            "Epoch 00019: val_loss did not improve from 2.05584\n",
            "108/108 [==============================] - 1s 9ms/step - loss: 1.9781 - accuracy: 0.2304 - val_loss: 2.0634 - val_accuracy: 0.1970\n",
            "Epoch 20/50\n",
            "104/108 [===========================>..] - ETA: 0s - loss: 1.9738 - accuracy: 0.2500\n",
            "Epoch 00020: val_loss did not improve from 2.05584\n",
            "108/108 [==============================] - 1s 8ms/step - loss: 1.9734 - accuracy: 0.2500 - val_loss: 2.0665 - val_accuracy: 0.2045\n",
            "Epoch 21/50\n",
            "103/108 [===========================>..] - ETA: 0s - loss: 1.9820 - accuracy: 0.2291\n",
            "Epoch 00021: val_loss did not improve from 2.05584\n",
            "108/108 [==============================] - 1s 8ms/step - loss: 1.9787 - accuracy: 0.2304 - val_loss: 2.0602 - val_accuracy: 0.1989\n",
            "Epoch 22/50\n",
            "103/108 [===========================>..] - ETA: 0s - loss: 1.9611 - accuracy: 0.2641\n",
            "Epoch 00022: val_loss improved from 2.05584 to 2.05264, saving model to saved_models/weights.best.basic_mlp.hdf5\n",
            "108/108 [==============================] - 1s 8ms/step - loss: 1.9609 - accuracy: 0.2603 - val_loss: 2.0526 - val_accuracy: 0.2008\n",
            "Epoch 23/50\n",
            "104/108 [===========================>..] - ETA: 0s - loss: 1.9593 - accuracy: 0.2558\n",
            "Epoch 00023: val_loss did not improve from 2.05264\n",
            "108/108 [==============================] - 1s 9ms/step - loss: 1.9620 - accuracy: 0.2519 - val_loss: 2.0556 - val_accuracy: 0.1951\n",
            "Epoch 24/50\n",
            "104/108 [===========================>..] - ETA: 0s - loss: 1.9742 - accuracy: 0.2346\n",
            "Epoch 00024: val_loss did not improve from 2.05264\n",
            "108/108 [==============================] - 1s 8ms/step - loss: 1.9740 - accuracy: 0.2332 - val_loss: 2.0649 - val_accuracy: 0.1837\n",
            "Epoch 25/50\n",
            "103/108 [===========================>..] - ETA: 0s - loss: 1.9698 - accuracy: 0.2447\n",
            "Epoch 00025: val_loss did not improve from 2.05264\n",
            "108/108 [==============================] - 1s 9ms/step - loss: 1.9741 - accuracy: 0.2435 - val_loss: 2.0614 - val_accuracy: 0.2027\n",
            "Epoch 26/50\n",
            "104/108 [===========================>..] - ETA: 0s - loss: 1.9703 - accuracy: 0.2298\n",
            "Epoch 00026: val_loss did not improve from 2.05264\n",
            "108/108 [==============================] - 1s 8ms/step - loss: 1.9721 - accuracy: 0.2285 - val_loss: 2.0660 - val_accuracy: 0.1875\n",
            "Epoch 27/50\n",
            "104/108 [===========================>..] - ETA: 0s - loss: 1.9540 - accuracy: 0.2519\n",
            "Epoch 00027: val_loss did not improve from 2.05264\n",
            "108/108 [==============================] - 1s 8ms/step - loss: 1.9584 - accuracy: 0.2491 - val_loss: 2.0585 - val_accuracy: 0.1913\n",
            "Epoch 28/50\n",
            "105/108 [============================>.] - ETA: 0s - loss: 1.9597 - accuracy: 0.2257\n",
            "Epoch 00028: val_loss did not improve from 2.05264\n",
            "108/108 [==============================] - 1s 9ms/step - loss: 1.9605 - accuracy: 0.2285 - val_loss: 2.0614 - val_accuracy: 0.1894\n",
            "Epoch 29/50\n",
            "105/108 [============================>.] - ETA: 0s - loss: 1.9649 - accuracy: 0.2514\n",
            "Epoch 00029: val_loss did not improve from 2.05264\n",
            "108/108 [==============================] - 1s 9ms/step - loss: 1.9632 - accuracy: 0.2509 - val_loss: 2.0718 - val_accuracy: 0.1799\n",
            "Epoch 30/50\n",
            "103/108 [===========================>..] - ETA: 0s - loss: 1.9578 - accuracy: 0.2311\n",
            "Epoch 00030: val_loss did not improve from 2.05264\n",
            "108/108 [==============================] - 1s 8ms/step - loss: 1.9548 - accuracy: 0.2332 - val_loss: 2.0586 - val_accuracy: 0.1875\n",
            "Epoch 31/50\n",
            "102/108 [===========================>..] - ETA: 0s - loss: 1.9688 - accuracy: 0.2373\n",
            "Epoch 00031: val_loss did not improve from 2.05264\n",
            "108/108 [==============================] - 1s 8ms/step - loss: 1.9673 - accuracy: 0.2416 - val_loss: 2.0588 - val_accuracy: 0.1894\n",
            "Epoch 32/50\n",
            "104/108 [===========================>..] - ETA: 0s - loss: 1.9632 - accuracy: 0.2452\n",
            "Epoch 00032: val_loss did not improve from 2.05264\n",
            "108/108 [==============================] - 1s 9ms/step - loss: 1.9622 - accuracy: 0.2481 - val_loss: 2.0602 - val_accuracy: 0.1913\n",
            "Epoch 33/50\n",
            "104/108 [===========================>..] - ETA: 0s - loss: 1.9343 - accuracy: 0.2548\n",
            "Epoch 00033: val_loss did not improve from 2.05264\n",
            "108/108 [==============================] - 1s 9ms/step - loss: 1.9348 - accuracy: 0.2556 - val_loss: 2.0641 - val_accuracy: 0.1742\n",
            "Epoch 34/50\n",
            "103/108 [===========================>..] - ETA: 0s - loss: 1.9509 - accuracy: 0.2563\n",
            "Epoch 00034: val_loss improved from 2.05264 to 2.05127, saving model to saved_models/weights.best.basic_mlp.hdf5\n",
            "108/108 [==============================] - 1s 8ms/step - loss: 1.9497 - accuracy: 0.2621 - val_loss: 2.0513 - val_accuracy: 0.2083\n",
            "Epoch 35/50\n",
            "101/108 [===========================>..] - ETA: 0s - loss: 1.9427 - accuracy: 0.2406\n",
            "Epoch 00035: val_loss improved from 2.05127 to 2.04939, saving model to saved_models/weights.best.basic_mlp.hdf5\n",
            "108/108 [==============================] - 1s 9ms/step - loss: 1.9472 - accuracy: 0.2397 - val_loss: 2.0494 - val_accuracy: 0.2027\n",
            "Epoch 36/50\n",
            "103/108 [===========================>..] - ETA: 0s - loss: 1.9537 - accuracy: 0.2388\n",
            "Epoch 00036: val_loss did not improve from 2.04939\n",
            "108/108 [==============================] - 1s 8ms/step - loss: 1.9554 - accuracy: 0.2388 - val_loss: 2.0668 - val_accuracy: 0.1799\n",
            "Epoch 37/50\n",
            "102/108 [===========================>..] - ETA: 0s - loss: 1.9429 - accuracy: 0.2824\n",
            "Epoch 00037: val_loss did not improve from 2.04939\n",
            "108/108 [==============================] - 1s 8ms/step - loss: 1.9433 - accuracy: 0.2836 - val_loss: 2.0677 - val_accuracy: 0.1894\n",
            "Epoch 38/50\n",
            "101/108 [===========================>..] - ETA: 0s - loss: 1.9445 - accuracy: 0.2525\n",
            "Epoch 00038: val_loss did not improve from 2.04939\n",
            "108/108 [==============================] - 1s 9ms/step - loss: 1.9507 - accuracy: 0.2453 - val_loss: 2.0570 - val_accuracy: 0.1932\n",
            "Epoch 39/50\n",
            "107/108 [============================>.] - ETA: 0s - loss: 1.9451 - accuracy: 0.2477\n",
            "Epoch 00039: val_loss did not improve from 2.04939\n",
            "108/108 [==============================] - 1s 9ms/step - loss: 1.9452 - accuracy: 0.2472 - val_loss: 2.0533 - val_accuracy: 0.1989\n",
            "Epoch 40/50\n",
            "108/108 [==============================] - ETA: 0s - loss: 1.9396 - accuracy: 0.2575\n",
            "Epoch 00040: val_loss did not improve from 2.04939\n",
            "108/108 [==============================] - 1s 9ms/step - loss: 1.9396 - accuracy: 0.2575 - val_loss: 2.0582 - val_accuracy: 0.1894\n",
            "Epoch 41/50\n",
            "108/108 [==============================] - ETA: 0s - loss: 1.9485 - accuracy: 0.2631\n",
            "Epoch 00041: val_loss did not improve from 2.04939\n",
            "108/108 [==============================] - 1s 9ms/step - loss: 1.9485 - accuracy: 0.2631 - val_loss: 2.0538 - val_accuracy: 0.1856\n",
            "Epoch 42/50\n",
            "104/108 [===========================>..] - ETA: 0s - loss: 1.9700 - accuracy: 0.2288\n",
            "Epoch 00042: val_loss did not improve from 2.04939\n",
            "108/108 [==============================] - 1s 9ms/step - loss: 1.9660 - accuracy: 0.2332 - val_loss: 2.0515 - val_accuracy: 0.1951\n",
            "Epoch 43/50\n",
            "107/108 [============================>.] - ETA: 0s - loss: 1.9453 - accuracy: 0.2393\n",
            "Epoch 00043: val_loss improved from 2.04939 to 2.03951, saving model to saved_models/weights.best.basic_mlp.hdf5\n",
            "108/108 [==============================] - 1s 9ms/step - loss: 1.9454 - accuracy: 0.2388 - val_loss: 2.0395 - val_accuracy: 0.1856\n",
            "Epoch 44/50\n",
            "107/108 [============================>.] - ETA: 0s - loss: 1.9578 - accuracy: 0.2514\n",
            "Epoch 00044: val_loss did not improve from 2.03951\n",
            "108/108 [==============================] - 1s 9ms/step - loss: 1.9579 - accuracy: 0.2519 - val_loss: 2.0473 - val_accuracy: 0.1989\n",
            "Epoch 45/50\n",
            "102/108 [===========================>..] - ETA: 0s - loss: 1.9340 - accuracy: 0.2598\n",
            "Epoch 00045: val_loss did not improve from 2.03951\n",
            "108/108 [==============================] - 1s 9ms/step - loss: 1.9353 - accuracy: 0.2575 - val_loss: 2.0535 - val_accuracy: 0.1932\n",
            "Epoch 46/50\n",
            "108/108 [==============================] - ETA: 0s - loss: 1.9378 - accuracy: 0.2575\n",
            "Epoch 00046: val_loss did not improve from 2.03951\n",
            "108/108 [==============================] - 1s 9ms/step - loss: 1.9378 - accuracy: 0.2575 - val_loss: 2.0408 - val_accuracy: 0.1894\n",
            "Epoch 47/50\n",
            "108/108 [==============================] - ETA: 0s - loss: 1.9399 - accuracy: 0.2435\n",
            "Epoch 00047: val_loss did not improve from 2.03951\n",
            "108/108 [==============================] - 1s 9ms/step - loss: 1.9399 - accuracy: 0.2435 - val_loss: 2.0402 - val_accuracy: 0.1856\n",
            "Epoch 48/50\n",
            "108/108 [==============================] - ETA: 0s - loss: 1.9490 - accuracy: 0.2537\n",
            "Epoch 00048: val_loss did not improve from 2.03951\n",
            "108/108 [==============================] - 1s 9ms/step - loss: 1.9490 - accuracy: 0.2537 - val_loss: 2.0507 - val_accuracy: 0.1799\n",
            "Epoch 49/50\n",
            "105/108 [============================>.] - ETA: 0s - loss: 1.9523 - accuracy: 0.2581\n",
            "Epoch 00049: val_loss did not improve from 2.03951\n",
            "108/108 [==============================] - 1s 8ms/step - loss: 1.9524 - accuracy: 0.2593 - val_loss: 2.0430 - val_accuracy: 0.1894\n",
            "Epoch 50/50\n",
            "104/108 [===========================>..] - ETA: 0s - loss: 1.9365 - accuracy: 0.2721\n",
            "Epoch 00050: val_loss did not improve from 2.03951\n",
            "108/108 [==============================] - 1s 8ms/step - loss: 1.9391 - accuracy: 0.2696 - val_loss: 2.0472 - val_accuracy: 0.1856\n",
            "17/17 [==============================] - 0s 4ms/step - loss: 2.0472 - accuracy: 0.1856\n",
            "accuracy_score: [2.0471701622009277, 0.18560606241226196]\n"
          ],
          "name": "stdout"
        }
      ]
    },
    {
      "cell_type": "code",
      "metadata": {
        "id": "LWGg4jBTlCR9",
        "colab_type": "code",
        "outputId": "7bfe2d02-4d26-42b1-cbda-54dc7005bbce",
        "colab": {
          "base_uri": "https://localhost:8080/",
          "height": 35
        }
      },
      "source": [
        "!readlink -f ~/.keras/keras.json"
      ],
      "execution_count": 0,
      "outputs": [
        {
          "output_type": "stream",
          "text": [
            "/root/.keras/keras.json\n"
          ],
          "name": "stdout"
        }
      ]
    },
    {
      "cell_type": "code",
      "metadata": {
        "id": "0c8w9tgTiV53",
        "colab_type": "code",
        "outputId": "30bd5f67-c774-450a-971b-9799e51b2e3a",
        "colab": {
          "base_uri": "https://localhost:8080/",
          "height": 219
        }
      },
      "source": [
        "\n"
      ],
      "execution_count": 0,
      "outputs": [
        {
          "output_type": "stream",
          "text": [
            "--2020-05-07 19:08:10--  https://raw.githubusercontent.com/vlawhern/arl-eegmodels/master/EEGModels.py\n",
            "Resolving raw.githubusercontent.com (raw.githubusercontent.com)... 151.101.0.133, 151.101.64.133, 151.101.128.133, ...\n",
            "Connecting to raw.githubusercontent.com (raw.githubusercontent.com)|151.101.0.133|:443... connected.\n",
            "HTTP request sent, awaiting response... 200 OK\n",
            "Length: 18283 (18K) [text/plain]\n",
            "Saving to: ‘EEGModels.py’\n",
            "\n",
            "\rEEGModels.py          0%[                    ]       0  --.-KB/s               \rEEGModels.py        100%[===================>]  17.85K  --.-KB/s    in 0.01s   \n",
            "\n",
            "2020-05-07 19:08:10 (1.43 MB/s) - ‘EEGModels.py’ saved [18283/18283]\n",
            "\n"
          ],
          "name": "stdout"
        }
      ]
    },
    {
      "cell_type": "code",
      "metadata": {
        "colab_type": "code",
        "outputId": "d629a9f2-c963-4030-8dec-23851656556d",
        "id": "ovrlCYuqKIT4",
        "colab": {
          "base_uri": "https://localhost:8080/",
          "height": 1000
        }
      },
      "source": [
        "#@title 1st objest, target vs non target\n",
        "# Вчитување на податоците\n",
        "data = loadmat('drive/My Drive/Интелигентни Системи/Data/SBJ01/S01-Train/trainData.mat')['trainData'] \n",
        "\n",
        "# Вчитување на label-ите\n",
        "labels_arr = []\n",
        "with open(\"drive/My Drive/Интелигентни Системи/Data/SBJ01/S01-Train/trainLabels.txt\", \"r\") as file_labels:\n",
        "    labels_arr = file_labels.read().splitlines()\n",
        "\n",
        "# Вчитување на редоследот на светкање\n",
        "events_arr = []\n",
        "with open(\"drive/My Drive/Интелигентни Системи/Data/SBJ01/S01-Train/trainEvents.txt\", \"r\") as file_events:\n",
        "    events_arr = file_events.read().splitlines()\n",
        "\n",
        "# Вчитување на редоследот на објекти кои се target\n",
        "targets_arr = []\n",
        "with open(\"drive/My Drive/Интелигентни Системи/Data/SBJ01/S01-Train/trainTargets.txt\", \"r\") as file_targets:\n",
        "    targets_arr = file_targets.read().splitlines()\n",
        "\n",
        "# Прилагодување на податоците за користење со mne библиотеката\n",
        "ch_names = [\"C3\", \"Cz\", \"C4\", \"CPz\", \"P3\", \"Pz\", \"P4\", \"POz\"]\n",
        "ch_types = ['eeg','eeg','eeg','eeg','eeg','eeg','eeg','eeg']\n",
        "mne_info = mne.create_info(ch_names=ch_names, sfreq=250, ch_types=ch_types)\n",
        "#mne_array = np.swapaxes(data, 0, 2) # (епохa, канал, настан). \n",
        "#mne_array = np.swapaxes(mne_array, 1, 2) # (епохa, канал, настан). \n",
        "#raw_data = mne.epochs.EpochsArray(mne_array, mne_info)\n",
        "\n",
        "# Извлекување на настаните каде светнал првиот објект и бил target.\n",
        "first_object_events_target = [index for index, value in enumerate(events_arr) if value == '1']\n",
        "first_object_non_target = [index for index, value in enumerate(events_arr) if value == '1']\n",
        "\n",
        "for event_pos in first_object_events_target:\n",
        "  if targets_arr[event_pos] == 1:\n",
        "    first_object_non_target.remove(event_pos)\n",
        "    continue # Продолжи\n",
        "  else:\n",
        "    first_object_events_target.remove(event_pos) # Избриши -> Објектот не е target\n",
        "first_object_target_eeg_data = np.zeros((8,350, len(first_object_events_target)))\n",
        "first_object_non_target_eeg_data = np.zeros((8,350, len(first_object_non_target)))\n",
        "for channel in range(0, 8): # Секој канал\n",
        "  for epoch in range(0, 350): # Секоја епоха\n",
        "    i = 0\n",
        "    for event in first_object_events_target: # Настан\n",
        "      first_object_target_eeg_data[channel][epoch][i] = data[channel][epoch][event]\n",
        "      i = i+1\n",
        "    \n",
        "    k=0\n",
        "    for event in first_object_non_target: # Настан\n",
        "      first_object_non_target_eeg_data[channel][epoch][i] = data[channel][epoch][event]\n",
        "      k = k+1\n",
        "\n",
        "print(first_object_target_eeg_data.shape)\n",
        "print(first_object_non_target_eeg_data.shape)\n",
        "\n",
        "first_object_target_eeg_data = np.mean(first_object_target_eeg_data, axis=2)\n",
        "first_object_non_target_eeg_data = np.mean(first_object_non_target_eeg_data, axis=2)\n",
        "\n",
        "fig, axs = plt.subplots(8,2,figsize=(16,16*4))\n",
        "for i in range(8):\n",
        "  f, t, Sxx = signal.spectrogram(first_object_target_eeg_data[i], fs=FS, nperseg=50, window=('hamming'), noverlap=35)\n",
        "  fnon, tnon, Sxxnon = signal.spectrogram(first_object_non_target_eeg_data[i], fs=FS, nperseg=50, window=('hamming'), noverlap=35)\n",
        "\n",
        "  axs[i,0].pcolormesh(t, f, Sxx)\n",
        "  axs[i,1].pcolormesh(tnon, fnon, Sxxnon)\n",
        "plt.show()"
      ],
      "execution_count": 0,
      "outputs": [
        {
          "output_type": "stream",
          "text": [
            "(8, 350, 100)\n",
            "(8, 350, 200)\n"
          ],
          "name": "stdout"
        },
        {
          "output_type": "display_data",
          "data": {
            "image/png": "[encoded data removed]",
            "text/plain": [
              "<Figure size 1152x4608 with 16 Axes>"
            ]
          },
          "metadata": {
            "tags": [],
            "needs_background": "light"
          }
        }
      ]
    }
  ]
}