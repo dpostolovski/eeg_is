{
  "nbformat": 4,
  "nbformat_minor": 0,
  "metadata": {
    "colab": {
      "name": "Copy of IS_project.ipynb",
      "provenance": [],
      "collapsed_sections": [],
      "toc_visible": true,
      "include_colab_link": true
    },
    "kernelspec": {
      "name": "python3",
      "display_name": "Python 3"
    },
    "accelerator": "GPU"
  },
  "cells": [
    {
      "cell_type": "markdown",
      "metadata": {
        "id": "view-in-github",
        "colab_type": "text"
      },
      "source": [
        "<a href=\"https://colab.research.google.com/github/dpostolovski/eeg_is/blob/train_compare_full_data/(-_-)%20v3.ipynb\" target=\"_parent\"><img src=\"https://colab.research.google.com/assets/colab-badge.svg\" alt=\"Open In Colab\"/></a>"
      ]
    },
    {
      "cell_type": "markdown",
      "metadata": {
        "id": "wBqW8_NNlAgz",
        "colab_type": "text"
      },
      "source": [
        "<center>\n",
        "  <img alt=\"FINKI **LOGO**\" height=\"auto\" src=\"https://www.finki.ukim.mk/Content/dataImages/downloads/logo-large-500x500_2.png\" hspace=\"10px\" vspace=\"0px\">\n",
        "  <h1>\n",
        "    Интелигентни системи - Лабораториска вежба\n",
        "  </h1>\n",
        "\n",
        "  <h3><i>Група 5</i></h3>\n",
        "  <h4><i>Дамjан Постоловски, Стефан Тодоровски, Ангела Кралевска, Иван Крстев, Мариjа Величковска</i></h2>\n",
        "</center>\n",
        "\n",
        "---\n",
        "\n"
      ]
    },
    {
      "cell_type": "markdown",
      "metadata": {
        "id": "ob19hJpXtp4u",
        "colab_type": "text"
      },
      "source": [
        "# 1. Подготовка на околината"
      ]
    },
    {
      "cell_type": "code",
      "metadata": {
        "id": "UTx3XQgUOhCX",
        "colab_type": "code",
        "cellView": "form",
        "colab": {}
      },
      "source": [
        "#@title 1.1 Монтирање на Google Drive податочниот систем\n",
        "from google.colab import drive\n",
        "drive.mount('/content/drive')"
      ],
      "execution_count": null,
      "outputs": []
    },
    {
      "cell_type": "code",
      "metadata": {
        "id": "rLrrPj8clKjP",
        "colab_type": "code",
        "cellView": "form",
        "colab": {}
      },
      "source": [
        "#@title 1.2 Инсталирање, вчитување и иницијализација на потребните библиотеки\n",
        "!pip install mne \n",
        "!pip install termcolor\n",
        "\n",
        "%tensorflow_version 1.12.0\n",
        "\n",
        "import os\n",
        "import numpy as np\n",
        "import mne\n",
        "\n",
        "from sklearn import metrics \n",
        "from sklearn.model_selection import train_test_split\n",
        "\n",
        "from tensorflow.keras.callbacks import ModelCheckpoint \n",
        "from tensorflow.keras.utils import to_categorical as to_cat\n",
        "from tensorflow.keras.optimizers import Adam\n",
        "from tensorflow.keras import backend as K\n",
        "\n",
        "from scipy.io import loadmat\n",
        "from collections import Counter\n",
        "\n",
        "%cd drive/My\\ Drive/Интелигентни\\ Системи\n",
        "from EEGModels import DeepConvNet, EEGNet\n",
        "\n",
        "!mkdir saved_models\n",
        "\n",
        "K.set_image_data_format('channels_first')"
      ],
      "execution_count": null,
      "outputs": []
    },
    {
      "cell_type": "markdown",
      "metadata": {
        "id": "rg0wnUgUuYs_",
        "colab_type": "text"
      },
      "source": [
        "# 2. Иницијализација на функции и константи"
      ]
    },
    {
      "cell_type": "code",
      "metadata": {
        "id": "HKon3lXdo7Ha",
        "colab_type": "code",
        "colab": {},
        "cellView": "form"
      },
      "source": [
        "#@title 2.1 Иницијализација на константи\n",
        "PARTICIPANT_START = 1 #@param {type:\"integer\"}\n",
        "PARTICIPANT_END = 3 #@param {type:\"integer\"}\n",
        "NUM_BATCH_SIZE=100 #@param {type:\"integer\"}\n",
        "NUM_EPOCHS=150 #@param {type:\"integer\"}"
      ],
      "execution_count": 73,
      "outputs": []
    },
    {
      "cell_type": "markdown",
      "metadata": {
        "id": "qFQrid4jlFwH",
        "colab_type": "text"
      },
      "source": [
        "## 2. Иницијализација на функции кои ќе ги користиме\n",
        "1. load_mat_data - ги вчитува .mat податоците.\n",
        "2. load_txt_data - ги вчитува .txt податоците.\n",
        "3. load_data - ги повикува претходните две функции и ги вчитува податоците за даден учесник.\n",
        "4. reshape -\n",
        "5. reshape_data_to_mne_format -\n",
        "\n",
        "\n",
        "\n"
      ]
    },
    {
      "cell_type": "code",
      "metadata": {
        "id": "l5zBkobVEkTf",
        "colab_type": "code",
        "colab": {},
        "cellView": "both"
      },
      "source": [
        "def load_mat_data(folder_path, file_name, mode = 'Train'):\n",
        "    \"\"\"\n",
        "        Load and concatenate train mat data from all three sessions.\n",
        "\n",
        "        :param folder_path: path to the participant data\n",
        "        :param file_name: the name of the mat file to be loaded (without .mat extension)\n",
        "        :param mode: Train or Test data \n",
        "        :return: numpy array containing the mat data\n",
        "    \"\"\"\n",
        "    data = np.empty(0)\n",
        "    for session in range(1, 4):  # Итерација низ секоја сесија\n",
        "        path = folder_path + '/S' + format(session, '02') + '/' + mode + '/' + file_name + '.mat'\n",
        "        temp = loadmat(path)[file_name]\n",
        "        if data.size != 0:\n",
        "            data = np.concatenate((data, temp), axis=2)\n",
        "        else:\n",
        "            data = np.array(temp)\n",
        "    return data\n",
        "\n",
        "\n",
        "def load_txt_data(folder_path, file_name, mode = 'Train'):\n",
        "    \"\"\"\n",
        "        Load and concatenate txt data from all three sessions.\n",
        "\n",
        "        :param folder_path: path to the participant data\n",
        "        :param file_name: the name of the file to be loaded\n",
        "        :param mode: Train or Test data \n",
        "        :return: numpy array containing the wanted data\n",
        "    \"\"\"\n",
        "    data = np.empty(0)\n",
        "    for session in range(1, 4):  # Итерација низ секоја сесија\n",
        "        path = folder_path + '/S' + format(session, '02') + '/' + mode + '/' + file_name\n",
        "        with open(path, \"r\") as file:\n",
        "            temp = file.read().splitlines()\n",
        "            if file_name == 'trainLabels.txt':\n",
        "                temp = np.repeat(temp, 8 * 10)\n",
        "            if data.size != 0:\n",
        "                data = np.concatenate((data, temp))\n",
        "            else:\n",
        "                data = np.array(temp)\n",
        "    return data\n",
        "\n",
        "\n",
        "def load_data(participant):\n",
        "    \"\"\"\n",
        "        Load data for the given participant.\n",
        "\n",
        "        :param participant: Participant number (1-15)\n",
        "        :return: train_data, train_labels, train_events, train_targets\n",
        "    \"\"\"\n",
        "    print(\"Вчитување податоци од испитниот примерок (учесник) \" + str(participant) + '...')\n",
        "    path_to_data = 'Data/SBJ' + format(participant, '02')\n",
        "\n",
        "    train_data = load_mat_data(path_to_data, 'trainData')\n",
        "    train_labels = load_txt_data(path_to_data, 'trainLabels.txt')\n",
        "    train_events = load_txt_data(path_to_data, 'trainEvents.txt')\n",
        "    train_targets = load_txt_data(path_to_data, 'trainTargets.txt')\n",
        "\n",
        "    print(\"Податоците од испитниот примерок (учесник) \" + str(participant) + \" се вчитани.\\n\")\n",
        "    return train_data, train_labels, train_events, train_targets\n",
        "\n",
        "\n",
        "def load_test_data(participant):\n",
        "    \"\"\"\n",
        "        Load test data for the given participant.\n",
        "\n",
        "        :param participant: Participant number (1-15)\n",
        "        :return: test_date, test_events\n",
        "    \"\"\"\n",
        "    print(\"Вчитување тест податоци од испитниот примерок (учесник) \" + str(participant) + '...')\n",
        "    path_to_data = 'Data/SBJ' + format(participant, '02')\n",
        "\n",
        "    test_date = load_mat_data(path_to_data, 'testData', 'Test')\n",
        "    test_events = load_txt_data(path_to_data, 'testEvents.txt', 'Test')\n",
        "\n",
        "    print(\"Тест податоците од испитниот примерок (учесник) \" + str(participant) + \" се вчитани.\\n\")\n",
        "    return test_date, test_events\n",
        "\n",
        "\n",
        "def reshape(data, labels, events, targets):\n",
        "  mne_array = np.swapaxes(data, 0, 2) # (епохa, канал, настан). \n",
        "  mne_array = np.swapaxes(mne_array, 1, 2) # (епохa, канал, настан). \n",
        "  mne_array = mne_array.reshape(mne_array.shape[0], 1, 8, 350)\n",
        "\n",
        "  labels_arr = labels.astype(np.int)\n",
        "  events_arr = events.astype(np.int)\n",
        "  return mne_array, labels_arr-1, events_arr-1\n",
        "\n",
        "\n",
        "def reshape_data_to_mne_format(data):\n",
        "  mne_array = np.swapaxes(data, 0, 2) # (епохa, канал, настан). \n",
        "  mne_array = np.swapaxes(mne_array, 1, 2) # (епохa, канал, настан). \n",
        "  mne_array = mne_array.reshape(mne_array.shape[0], 1, 8, 350)\n",
        "\n",
        "  return mne_array\n",
        "\n",
        "def load_runs_per_block(participant):\n",
        "  test_runs_per_block = [[i for i in range(3)] for j in range(15)] # Covek, Sesija\n",
        "\n",
        "  file_name = 'Data/SBJ' + format(participant, '02')\n",
        "  for j in range(1, 4): # Итерација низ секоја сесија\n",
        "    file_test_set = 'S' + format(j, '02') + '/Test'\n",
        "\n",
        "    # Вчитување на бројот на runs \n",
        "    full_path = file_name + \"/\" + file_test_set + \"/runs_per_block.txt\"\n",
        "    with open(full_path, \"r\") as runs_per_block:\n",
        "      test_runs_per_block[participant-1][j-1] = int(runs_per_block.read())\n",
        "  \n",
        "  return test_runs_per_block\n",
        "\n",
        "def print_test_data_info(participant, test_data, test_events, runs_per_block, predictions):\n",
        "  index = participant - PARTICIPANT_START  \n",
        "\n",
        "  print(\"SBJ\" + str(format(participant, '02')) + \"| Test_data: \" + str(test_data[index].shape)) # test_data to predict\n",
        "  print(\"SBJ\" + str(format(participant, '02')) + \"| Test_events: \" + str(len(test_events))) # test_events\n",
        "  for session in range (1,4):\n",
        "    print(\"SBJ\" + str(format(participant, '02')) + \" / S\" + str(format(session, '02')) + \"| Runs per block: \" + str(runs_per_block[participant-1][session-1])) # runs per block in SJB01, SJ00 \n",
        "  print(\"SBJ\" + str(format(participant, '02')) + \"| Predictions: \" + str(len(predictions)) + '\\n')"
      ],
      "execution_count": 74,
      "outputs": []
    },
    {
      "cell_type": "markdown",
      "metadata": {
        "id": "SxXkoaFvwEW-",
        "colab_type": "text"
      },
      "source": [
        "# 3. Визуелизација"
      ]
    },
    {
      "cell_type": "code",
      "metadata": {
        "id": "VTcvc3zf8Kib",
        "colab_type": "code",
        "cellView": "both",
        "colab": {
          "base_uri": "https://localhost:8080/",
          "height": 491
        },
        "outputId": "3563cda9-c6b9-47c0-a869-35b4c0b24f9c"
      },
      "source": [
        "#@title 3.1 Локација на сензорите\n",
        "#@markdown Може да се забележи дека каналите кои ги отчитуваме се наоѓаат во средниот и задниот дел на мозокот.\n",
        "montage = mne.channels.make_standard_montage(\"standard_alphabetic\")\n",
        "montage.plot();"
      ],
      "execution_count": 40,
      "outputs": [
        {
          "output_type": "stream",
          "text": [
            "Creating RawArray with float64 data, n_channels=65, n_times=1\n",
            "    Range : 0 ... 0 =      0.000 ...     0.000 secs\n",
            "Ready.\n"
          ],
          "name": "stdout"
        },
        {
          "output_type": "display_data",
          "data": {
            "image/png": "[encoded data removed]",
            "text/plain": [
              "<Figure size 432x432 with 1 Axes>"
            ]
          },
          "metadata": {
            "tags": [],
            "needs_background": "light"
          }
        }
      ]
    },
    {
      "cell_type": "code",
      "metadata": {
        "id": "f5axzLaGPHFw",
        "colab_type": "code",
        "colab": {
          "base_uri": "https://localhost:8080/",
          "height": 516
        },
        "cellView": "form",
        "outputId": "3a52f701-9ef2-4b20-e30a-92a8a2c613c9"
      },
      "source": [
        "#@title 3.2 Histogram и зависности помеѓу 8те канали\n",
        "from scipy import io\n",
        "import matplotlib.pyplot as plt\n",
        "t = io.loadmat('Data/SBJ01/S01/Train/trainData.mat')['trainData'] \n",
        "t[0].shape\n",
        "\n",
        "fig, axs = plt.subplots(2)\n",
        "# plot histogram\n",
        "axs[0].hist(t[0][3])\n",
        "axs[1].plot(range(0,350), t[0][2][0:350])\n",
        "\n",
        "k = 0\n",
        "fig, axs = plt.subplots(8,8)\n",
        "for i in range(8):\n",
        "  for y in range(8):\n",
        "    axs[i,y].plot(t[i][0], t[y][0])"
      ],
      "execution_count": 58,
      "outputs": [
        {
          "output_type": "display_data",
          "data": {
            "image/png": "[encoded data removed]",
            "text/plain": [
              "<Figure size 432x288 with 2 Axes>"
            ]
          },
          "metadata": {
            "tags": [],
            "needs_background": "light"
          }
        },
        {
          "output_type": "display_data",
          "data": {
            "image/png": "[encoded data removed]",
            "text/plain": [
              "<Figure size 432x288 with 64 Axes>"
            ]
          },
          "metadata": {
            "tags": [],
            "needs_background": "light"
          }
        }
      ]
    },
    {
      "cell_type": "markdown",
      "metadata": {
        "id": "cfMZvSyt28g9",
        "colab_type": "text"
      },
      "source": [
        "## 3.3 Визуелизација на податоците"
      ]
    },
    {
      "cell_type": "code",
      "metadata": {
        "id": "CuJLBCQ5utVb",
        "colab_type": "code",
        "cellView": "form",
        "colab": {
          "base_uri": "https://localhost:8080/",
          "height": 476
        },
        "outputId": "bd9a6fa0-6366-48b3-e22e-d324dcf89644"
      },
      "source": [
        "#@title 3.3.1 Визуелизација на EEG сигналите во рамки на еден настан (првиот настан).\n",
        "fig, axs = plt.subplots(8)\n",
        "swapped_matrix = np.swapaxes(data, 1, 2) # (канал, настан, епоха).\n",
        "\n",
        "for channel in range(0, 8):\n",
        "  axs[channel].set_title(ch_names[channel])\n",
        "  for epoch in range(0, 350):\n",
        "    y_arr = data[channel][epoch][0]\n",
        "    axs[channel].plot(range(0,350), swapped_matrix[channel][0])"
      ],
      "execution_count": 59,
      "outputs": [
        {
          "output_type": "error",
          "ename": "NameError",
          "evalue": "ignored",
          "traceback": [
            "\u001b[0;31m---------------------------------------------------------------------------\u001b[0m",
            "\u001b[0;31mNameError\u001b[0m                                 Traceback (most recent call last)",
            "\u001b[0;32m<ipython-input-59-39ac24f90e17>\u001b[0m in \u001b[0;36m<module>\u001b[0;34m()\u001b[0m\n\u001b[1;32m      4\u001b[0m \u001b[0;34m\u001b[0m\u001b[0m\n\u001b[1;32m      5\u001b[0m \u001b[0;32mfor\u001b[0m \u001b[0mchannel\u001b[0m \u001b[0;32min\u001b[0m \u001b[0mrange\u001b[0m\u001b[0;34m(\u001b[0m\u001b[0;36m0\u001b[0m\u001b[0;34m,\u001b[0m \u001b[0;36m8\u001b[0m\u001b[0;34m)\u001b[0m\u001b[0;34m:\u001b[0m\u001b[0;34m\u001b[0m\u001b[0;34m\u001b[0m\u001b[0m\n\u001b[0;32m----> 6\u001b[0;31m   \u001b[0maxs\u001b[0m\u001b[0;34m[\u001b[0m\u001b[0mchannel\u001b[0m\u001b[0;34m]\u001b[0m\u001b[0;34m.\u001b[0m\u001b[0mset_title\u001b[0m\u001b[0;34m(\u001b[0m\u001b[0mch_names\u001b[0m\u001b[0;34m[\u001b[0m\u001b[0mchannel\u001b[0m\u001b[0;34m]\u001b[0m\u001b[0;34m)\u001b[0m\u001b[0;34m\u001b[0m\u001b[0;34m\u001b[0m\u001b[0m\n\u001b[0m\u001b[1;32m      7\u001b[0m   \u001b[0;32mfor\u001b[0m \u001b[0mepoch\u001b[0m \u001b[0;32min\u001b[0m \u001b[0mrange\u001b[0m\u001b[0;34m(\u001b[0m\u001b[0;36m0\u001b[0m\u001b[0;34m,\u001b[0m \u001b[0;36m350\u001b[0m\u001b[0;34m)\u001b[0m\u001b[0;34m:\u001b[0m\u001b[0;34m\u001b[0m\u001b[0;34m\u001b[0m\u001b[0m\n\u001b[1;32m      8\u001b[0m     \u001b[0my_arr\u001b[0m \u001b[0;34m=\u001b[0m \u001b[0mdata\u001b[0m\u001b[0;34m[\u001b[0m\u001b[0mchannel\u001b[0m\u001b[0;34m]\u001b[0m\u001b[0;34m[\u001b[0m\u001b[0mepoch\u001b[0m\u001b[0;34m]\u001b[0m\u001b[0;34m[\u001b[0m\u001b[0;36m0\u001b[0m\u001b[0;34m]\u001b[0m\u001b[0;34m\u001b[0m\u001b[0;34m\u001b[0m\u001b[0m\n",
            "\u001b[0;31mNameError\u001b[0m: name 'ch_names' is not defined"
          ]
        },
        {
          "output_type": "display_data",
          "data": {
            "image/png": "[encoded data removed]",
            "text/plain": [
              "<Figure size 432x288 with 8 Axes>"
            ]
          },
          "metadata": {
            "tags": [],
            "needs_background": "light"
          }
        }
      ]
    },
    {
      "cell_type": "code",
      "metadata": {
        "id": "rMKdeZBKf2G3",
        "colab_type": "code",
        "cellView": "form",
        "colab": {
          "base_uri": "https://localhost:8080/",
          "height": 223
        },
        "outputId": "b17d4aaa-9f97-4eca-cff2-cc88688913c9"
      },
      "source": [
        "#@title 3.3.2 Визуелизација на EEG сигналите во првата,средната и последната епоха.\n",
        "#@markdown 1. Визуелизација на EEG податоците по канали за првата, средната и последната епоха.\n",
        "#@markdown 2. Power Spectrum Density на 175-тата епоха. Во оваа епоха \n",
        "#@markdown сигналите би биле најстабилни за објектот кој светка.\n",
        "\n",
        "middle_epoch = mne_array[175]\n",
        "first_epoch = mne_array[0]\n",
        "last_epoch = mne_array[349]\n",
        "raw_middle = mne.io.RawArray(middle_epoch, mne_info)\n",
        "raw_first = mne.io.RawArray(first_epoch, mne_info)\n",
        "raw_last = mne.io.RawArray(last_epoch, mne_info)\n",
        "for epoch in range(0, 350): # Секоја епоха\n",
        "  i = 0\n",
        "  for event in range(0, 1600): # Настан\n",
        "    \n",
        "    np.array([1, 2, 3])\n",
        "    i = i+1\n",
        "\n",
        "\n",
        "\n",
        "print(\"\\n\")\n",
        "print(colored('====== 1 ======', 'red'))\n",
        "print(colored(\"Прва епоха од сите 1600 настани\", 'blue'))\n",
        "raw_first.plot(n_channels=8, scalings=dict(eeg=40), title='EEG Signals',\n",
        "         show=True, block=True, color = dict(eeg='blue'))\n",
        "print(colored(\"Средна епоха од сите 1600 настани\", 'blue'))\n",
        "raw_middle.plot(n_channels=8, scalings=dict(eeg=40), title='EEG Signals',\n",
        "         show=True, block=True, color = dict(eeg='blue'))\n",
        "print(colored(\"Последна епоха од сите 1600 настани\", 'blue'))\n",
        "raw_last.plot(n_channels=8, scalings=dict(eeg=40), title='EEG Signals',\n",
        "         show=True, block=True, color = dict(eeg='blue'))\n",
        "print(\"\\n\")\n",
        "print(colored('====== 2 ======', 'red'))\n",
        "raw_middle.plot_psd(area_mode='range', show=False, average=True);\n",
        "raw_data.plot_image();"
      ],
      "execution_count": 60,
      "outputs": [
        {
          "output_type": "error",
          "ename": "NameError",
          "evalue": "ignored",
          "traceback": [
            "\u001b[0;31m---------------------------------------------------------------------------\u001b[0m",
            "\u001b[0;31mNameError\u001b[0m                                 Traceback (most recent call last)",
            "\u001b[0;32m<ipython-input-60-8932ea483f8a>\u001b[0m in \u001b[0;36m<module>\u001b[0;34m()\u001b[0m\n\u001b[1;32m      4\u001b[0m \u001b[0;31m#@markdown сигналите би биле најстабилни за објектот кој светка.\u001b[0m\u001b[0;34m\u001b[0m\u001b[0;34m\u001b[0m\u001b[0;34m\u001b[0m\u001b[0m\n\u001b[1;32m      5\u001b[0m \u001b[0;34m\u001b[0m\u001b[0m\n\u001b[0;32m----> 6\u001b[0;31m \u001b[0mmiddle_epoch\u001b[0m \u001b[0;34m=\u001b[0m \u001b[0mmne_array\u001b[0m\u001b[0;34m[\u001b[0m\u001b[0;36m175\u001b[0m\u001b[0;34m]\u001b[0m\u001b[0;34m\u001b[0m\u001b[0;34m\u001b[0m\u001b[0m\n\u001b[0m\u001b[1;32m      7\u001b[0m \u001b[0mfirst_epoch\u001b[0m \u001b[0;34m=\u001b[0m \u001b[0mmne_array\u001b[0m\u001b[0;34m[\u001b[0m\u001b[0;36m0\u001b[0m\u001b[0;34m]\u001b[0m\u001b[0;34m\u001b[0m\u001b[0;34m\u001b[0m\u001b[0m\n\u001b[1;32m      8\u001b[0m \u001b[0mlast_epoch\u001b[0m \u001b[0;34m=\u001b[0m \u001b[0mmne_array\u001b[0m\u001b[0;34m[\u001b[0m\u001b[0;36m349\u001b[0m\u001b[0;34m]\u001b[0m\u001b[0;34m\u001b[0m\u001b[0;34m\u001b[0m\u001b[0m\n",
            "\u001b[0;31mNameError\u001b[0m: name 'mne_array' is not defined"
          ]
        }
      ]
    },
    {
      "cell_type": "code",
      "metadata": {
        "id": "I4_WKbfszWbP",
        "colab_type": "code",
        "cellView": "form",
        "colab": {
          "base_uri": "https://localhost:8080/",
          "height": 223
        },
        "outputId": "2749b174-f60d-4f05-bd36-9ff7ef4f314b"
      },
      "source": [
        "#@title 3.3.3 Визуелна споредба на EEG податоците при светкање на првиот и последниот објект  \n",
        "#@markdown Во првиот случај вршиме споредба на EEG податоците кога првиот и последниот \n",
        "#@markdown објект светнал без разлика дали бил target, додека во вториот случај ги споредуваме\n",
        "#@markdown EEG податоците за случаи само кога тие објекти биле target објекти.\n",
        "\n",
        "# Извлекување на настаните каде светнал првиот објект.\n",
        "first_object_events = [index for index, value in enumerate(events_arr) if value == '1']\n",
        "first_object_eeg_data = np.zeros((8,350, len(first_object_events)))\n",
        "for channel in range(0, 8): # Секој канал\n",
        "  for epoch in range(0, 350): # Секоја епоха\n",
        "    i = 0\n",
        "    for event in first_object_events: # Настан\n",
        "      first_object_eeg_data[channel][epoch][i] = data[channel][epoch][event]\n",
        "      i = i+1\n",
        "\n",
        "# Креирање на соодветна дводимензионална низа за mne библиотеката\n",
        "mne_first_obj_array = np.swapaxes(first_object_eeg_data, 0, 1) # (епохa, канал, настан).\n",
        "epoch = mne_first_obj_array[175] \n",
        "first_object_raw = mne.io.RawArray(epoch, mne_info)\n",
        "\n",
        "\n",
        "\n",
        "\n",
        "\n",
        "# Извлекување на настаните каде светнал првиот објект и бил target.\n",
        "first_object_events_target = [index for index, value in enumerate(events_arr) if value == '1']\n",
        "for event_pos in first_object_events_target:\n",
        "  if targets_arr[event_pos] == 1:\n",
        "    continue # Продолжи\n",
        "  else:\n",
        "    first_object_events_target.remove(event_pos) # Избриши -> Објектот не е target\n",
        "first_object_target_eeg_data = np.zeros((8,350, len(first_object_events_target)))\n",
        "for channel in range(0, 8): # Секој канал\n",
        "  for epoch in range(0, 350): # Секоја епоха\n",
        "    i = 0\n",
        "    for event in first_object_events_target: # Настан\n",
        "      first_object_target_eeg_data[channel][epoch][i] = data[channel][epoch][event]\n",
        "      i = i+1\n",
        "\n",
        "# Креирање на соодветна дводимензионална низа за mne библиотеката\n",
        "mne_first_obj_target_array = np.swapaxes(first_object_target_eeg_data, 0, 1) # (епохa, канал, настан).\n",
        "epoch = mne_first_obj_target_array[175] \n",
        "first_object_target_raw = mne.io.RawArray(epoch, mne_info)\n",
        "\n",
        "\n",
        "\n",
        "\n",
        "\n",
        "# Извлекување на настаните каде светнал последниот објект.\n",
        "last_object_events = [index for index, value in enumerate(events_arr) if value == '8']\n",
        "last_object_eeg_data = np.zeros((8,350, len(last_object_events)))\n",
        "for channel in range(0, 8): # Секој канал\n",
        "  for epoch in range(0, 350): # Секоја епоха\n",
        "    i = 0\n",
        "    for event in last_object_events: # Настан\n",
        "      last_object_eeg_data[channel][epoch][i] = data[channel][epoch][event]\n",
        "      i = i+1\n",
        "\n",
        "# Креирање на соодветна дводимензионална низа за mne библиотеката\n",
        "mne_last_obj_array = np.swapaxes(last_object_eeg_data, 0, 1) # (епохa, канал, настан).\n",
        "epoch = mne_last_obj_array[175] \n",
        "last_object_raw = mne.io.RawArray(epoch, mne_info)\n",
        "\n",
        "\n",
        "\n",
        "\n",
        "\n",
        "# Извлекување на настаните каде светнал последниот објект и бил target.\n",
        "last_object_events_target = [index for index, value in enumerate(events_arr) if value == '8']\n",
        "for event_pos in last_object_events_target:\n",
        "  if targets_arr[event_pos] == 1:\n",
        "    continue # Продолжи\n",
        "  else:\n",
        "    last_object_events_target.remove(event_pos) # Избриши -> Објектот не е target\n",
        "last_object_target_eeg_data = np.zeros((8,350, len(last_object_events_target)))\n",
        "for channel in range(0, 8): # Секој канал\n",
        "  for epoch in range(0, 350): # Секоја епоха\n",
        "    i = 0\n",
        "    for event in last_object_events_target: # Настан\n",
        "      last_object_target_eeg_data[channel][epoch][i] = data[channel][epoch][event]\n",
        "      i = i+1\n",
        "      \n",
        "# Креирање на соодветна дводимензионална низа за mne библиотеката\n",
        "mne_last_obj_target_array = np.swapaxes(last_object_target_eeg_data, 0, 1) # (епохa, канал, настан).\n",
        "epoch = mne_last_obj_target_array[175] \n",
        "last_object_target_raw = mne.io.RawArray(epoch, mne_info)\n",
        "\n",
        "# Исцртување и печатење\n",
        "print(\"\\n\\n\")\n",
        "print(colored('====== ПРВ ОБЈЕКТ - Книги на полица ======', 'red'))\n",
        "print(colored(\"Вкупно светнал: \" + str(len(first_object_events)), 'blue'))\n",
        "print(colored(\"Вкупно светнал и бил target: \" + str(len(first_object_events_target)), 'blue'))\n",
        "print(\"\\n\")\n",
        "print(colored('====== ПОСЛЕДЕН ОБЈЕКТ - Слика закачена на ѕид ======', 'red'))\n",
        "print(colored(\"Вкупно светнал: \" + str(len(last_object_events)), 'blue'))\n",
        "print(colored(\"Вкупно светнал и бил target: \" + str(len(last_object_events_target)), 'blue'))\n",
        "print(\"\\n\")\n",
        "print(colored('====== Графици со EEG податоци кога светнале првиот и последниот објект  ======', 'green'))\n",
        "first_object_raw.plot(n_channels=8, scalings=dict(eeg=40), title='EEG Signals',\n",
        "         show=True, block=True, color = dict(eeg='blue'));\n",
        "last_object_raw.plot(n_channels=8, scalings=dict(eeg=40), title='EEG Signals',\n",
        "         show=True, block=True, color = dict(eeg='blue'));\n",
        "print(\"\\n\")\n",
        "print(colored('====== Графици со EEG податоци кога светнале првиот и последниот објект и биле target  ======', 'green'))\n",
        "first_object_raw.plot(n_channels=8, scalings=dict(eeg=40), title='EEG Signals',\n",
        "         show=True, block=True, color = dict(eeg='blue'));\n",
        "last_object_raw.plot(n_channels=8, scalings=dict(eeg=40), title='EEG Signals',\n",
        "         show=True, block=True, color = dict(eeg='blue'));"
      ],
      "execution_count": 61,
      "outputs": [
        {
          "output_type": "error",
          "ename": "NameError",
          "evalue": "ignored",
          "traceback": [
            "\u001b[0;31m---------------------------------------------------------------------------\u001b[0m",
            "\u001b[0;31mNameError\u001b[0m                                 Traceback (most recent call last)",
            "\u001b[0;32m<ipython-input-61-dbf38dc9e0d5>\u001b[0m in \u001b[0;36m<module>\u001b[0;34m()\u001b[0m\n\u001b[1;32m      5\u001b[0m \u001b[0;34m\u001b[0m\u001b[0m\n\u001b[1;32m      6\u001b[0m \u001b[0;31m# Извлекување на настаните каде светнал првиот објект.\u001b[0m\u001b[0;34m\u001b[0m\u001b[0;34m\u001b[0m\u001b[0;34m\u001b[0m\u001b[0m\n\u001b[0;32m----> 7\u001b[0;31m \u001b[0mfirst_object_events\u001b[0m \u001b[0;34m=\u001b[0m \u001b[0;34m[\u001b[0m\u001b[0mindex\u001b[0m \u001b[0;32mfor\u001b[0m \u001b[0mindex\u001b[0m\u001b[0;34m,\u001b[0m \u001b[0mvalue\u001b[0m \u001b[0;32min\u001b[0m \u001b[0menumerate\u001b[0m\u001b[0;34m(\u001b[0m\u001b[0mevents_arr\u001b[0m\u001b[0;34m)\u001b[0m \u001b[0;32mif\u001b[0m \u001b[0mvalue\u001b[0m \u001b[0;34m==\u001b[0m \u001b[0;34m'1'\u001b[0m\u001b[0;34m]\u001b[0m\u001b[0;34m\u001b[0m\u001b[0;34m\u001b[0m\u001b[0m\n\u001b[0m\u001b[1;32m      8\u001b[0m \u001b[0mfirst_object_eeg_data\u001b[0m \u001b[0;34m=\u001b[0m \u001b[0mnp\u001b[0m\u001b[0;34m.\u001b[0m\u001b[0mzeros\u001b[0m\u001b[0;34m(\u001b[0m\u001b[0;34m(\u001b[0m\u001b[0;36m8\u001b[0m\u001b[0;34m,\u001b[0m\u001b[0;36m350\u001b[0m\u001b[0;34m,\u001b[0m \u001b[0mlen\u001b[0m\u001b[0;34m(\u001b[0m\u001b[0mfirst_object_events\u001b[0m\u001b[0;34m)\u001b[0m\u001b[0;34m)\u001b[0m\u001b[0;34m)\u001b[0m\u001b[0;34m\u001b[0m\u001b[0;34m\u001b[0m\u001b[0m\n\u001b[1;32m      9\u001b[0m \u001b[0;32mfor\u001b[0m \u001b[0mchannel\u001b[0m \u001b[0;32min\u001b[0m \u001b[0mrange\u001b[0m\u001b[0;34m(\u001b[0m\u001b[0;36m0\u001b[0m\u001b[0;34m,\u001b[0m \u001b[0;36m8\u001b[0m\u001b[0;34m)\u001b[0m\u001b[0;34m:\u001b[0m \u001b[0;31m# Секој канал\u001b[0m\u001b[0;34m\u001b[0m\u001b[0;34m\u001b[0m\u001b[0m\n",
            "\u001b[0;31mNameError\u001b[0m: name 'events_arr' is not defined"
          ]
        }
      ]
    },
    {
      "cell_type": "code",
      "metadata": {
        "id": "DHYR7GIeNruZ",
        "colab_type": "code",
        "colab": {}
      },
      "source": [
        "from mne.preprocessing import ICA\n",
        "raw.plot_psd(tmin=0.2, tmax=1.2, fmin=0, fmax=60, average=True, spatial_colors=False);\n",
        "num_components = 8\n",
        "ica = ICA(n_components=num_components, method='fastica')\n",
        "ica.fit(raw)\n",
        "ica.plot_sources(raw);"
      ],
      "execution_count": null,
      "outputs": []
    },
    {
      "cell_type": "markdown",
      "metadata": {
        "id": "5-i6hg3BxtcW",
        "colab_type": "text"
      },
      "source": [
        "# 4. Претпроцесирање"
      ]
    },
    {
      "cell_type": "code",
      "metadata": {
        "id": "MAZF5d2ltrUp",
        "colab_type": "code",
        "cellView": "form",
        "colab": {}
      },
      "source": [
        "#@title 4.1 Стандардизација на податоците\n",
        "\n",
        "standardizer = mne.decoding.Scaler(scalings='mean')\n",
        "standardizer.fit(mne_array)\n",
        "standardized_data = standardizer.transform(mne_array)\n",
        "print(\"Просекот е:\",-round(standardized_data.mean()))\n",
        "print(\"Варијансата е:\",round(standardized_data.var()))"
      ],
      "execution_count": null,
      "outputs": []
    },
    {
      "cell_type": "code",
      "metadata": {
        "id": "lNN3G9EuNozP",
        "colab_type": "code",
        "colab": {},
        "cellView": "form"
      },
      "source": [
        "#@title 4.2 Нормализација метод бр. 2\n",
        "\n",
        "\n",
        "import numpy as np\n",
        "from scipy.io import loadmat\n",
        "from sklearn.decomposition import PCA\n",
        "from sklearn.preprocessing import MinMaxScaler, StandardScaler\n",
        "def min_max_scale(dataset: np.ndarray) -> np.ndarray:\n",
        "    scaler = MinMaxScaler(feature_range=[0, 1])\n",
        "    scaled_data = scaler.fit_transform(dataset)\n",
        "    return scaled_data\n",
        "\n",
        "def standard_scale(dataset: np.ndarray) -> np.ndarray:\n",
        "    scaler = StandardScaler()\n",
        "    scaled_data = scaler.fit_transform(dataset)\n",
        "    return scaled_data\n",
        "\n",
        "data = loadmat('drive/My Drive/Интелигентни Системи/Data/SBJ01/S01-Train/trainData.mat')['trainData'] \n",
        "\n",
        "v_min = data.min(axis=(0, 1), keepdims=True)\n",
        "v_max = data.max(axis=(0, 1), keepdims=True)\n",
        "print(\"Нормализирани податоци:\")\n",
        "(data - v_min)/(v_max - v_min)\n",
        "\n"
      ],
      "execution_count": null,
      "outputs": []
    },
    {
      "cell_type": "code",
      "metadata": {
        "id": "97RpFhn51lwT",
        "colab_type": "code",
        "colab": {},
        "cellView": "form"
      },
      "source": [
        "#@title 4.3 Отстранување на шум - претстава\n",
        "\n",
        "Min, Max = round(mne_array.min()),round(mne_array.max())*1000000\n",
        "picks = mne.pick_types(raw_data.info, meg=False, eeg=True, stim=False, eog=False)\n",
        "mne.viz.plot_epochs_image(raw_data, picks='eeg', vmin= Min, vmax=Max)\n"
      ],
      "execution_count": null,
      "outputs": []
    },
    {
      "cell_type": "code",
      "metadata": {
        "id": "vMlIYsd8EguD",
        "colab_type": "code",
        "colab": {},
        "cellView": "form"
      },
      "source": [
        "#@title 4.4 Отстранување на шум - реултати\n",
        "xd = mne.preprocessing.Xdawn(n_components=2, signal_cov=None)\n",
        "xd.fit(raw_data)\n",
        "epochs_denoised = xd.apply(raw_data)\n",
        "epochs_denoised.keys()\n",
        "mne.viz.plot_epochs_image(epochs_denoised['1'], picks='eeg', vmin=Min, vmax=Max)"
      ],
      "execution_count": null,
      "outputs": []
    },
    {
      "cell_type": "code",
      "metadata": {
        "id": "sfTW-yXXbtfC",
        "colab_type": "code",
        "colab": {},
        "cellView": "form"
      },
      "source": [
        "#@title 4.5 Downsampling\n",
        "events = raw_data.events\n",
        "epochs = mne.Epochs(raw, events, tmin=-0.1, tmax=1, preload=True)\n",
        "print(epochs)\n",
        "# Downsample to 175 Hz\n",
        "print('Original sampling rate:', epochs.info['sfreq'], 'Hz')\n",
        "epochs_resampled = epochs.copy().resample(175, npad='auto')\n",
        "print('New sampling rate:', epochs_resampled.info['sfreq'], 'Hz')\n",
        "\n",
        "# Plot a piece of data to see the effects of downsampling\n",
        "plt.figure(figsize=(7, 3))\n",
        "\n",
        "n_samples_to_plot = int(0.5 * epochs.info['sfreq'])  # plot 0.5 seconds of data\n",
        "plt.plot(epochs.times[:n_samples_to_plot],\n",
        "         epochs.get_data()[ 0, 0, :n_samples_to_plot], color='black')\n",
        "\n",
        "n_samples_to_plot = int(0.5 * epochs_resampled.info['sfreq'])\n",
        "plt.plot(epochs_resampled.times[:n_samples_to_plot],\n",
        "         epochs_resampled.get_data()[ 0, 0, :n_samples_to_plot],\n",
        "         '-o', color='red')\n",
        "\n",
        "plt.xlabel('time (s)')\n",
        "plt.legend(['original', 'downsampled'], loc='best')\n",
        "plt.title('Effect of downsampling')\n",
        "mne.viz.tight_layout()"
      ],
      "execution_count": null,
      "outputs": []
    },
    {
      "cell_type": "code",
      "metadata": {
        "id": "HAudEh07MUzy",
        "colab_type": "code",
        "colab": {},
        "cellView": "form"
      },
      "source": [
        "#@title 4.6 Principal Component Analysis\n",
        "pca = mne.decoding.UnsupervisedSpatialFilter(PCA(8), average=False)\n",
        "pca_data = pca.fit_transform(mne_array)\n",
        "ev = mne.EvokedArray(np.mean(pca_data, axis=0),\n",
        "                     mne.create_info(8, raw_data.info['sfreq'],\n",
        "                                     ch_types='eeg'), tmin=Min)\n",
        "ev.plot(show=False, window_title=\"PCA\", time_unit='ms')"
      ],
      "execution_count": null,
      "outputs": []
    },
    {
      "cell_type": "markdown",
      "metadata": {
        "id": "adlhCM21w5Jw",
        "colab_type": "text"
      },
      "source": [
        "# 5. Тренирање на моделот\n",
        "Тренирање на моделот"
      ]
    },
    {
      "cell_type": "code",
      "metadata": {
        "id": "9hj0HEEqPVBa",
        "colab_type": "code",
        "colab": {},
        "cellView": "both"
      },
      "source": [
        "# Глобална низа каде ќе се зачувуваат тренираните модели\n",
        "models = []\n",
        "\n",
        "for participant in range(PARTICIPANT_START, PARTICIPANT_END):  # Итерација низ секој испитен примерок\n",
        "    train_data, train_labels, train_events, train_targets = load_data(participant)\n",
        "    \n",
        "    data, labels, events = reshape(train_data, train_labels, train_events, train_targets)\n",
        "    X_train, X_test, y_train, y_test = train_test_split(data, labels, test_size=0.25, random_state=42)\n",
        "\n",
        "    model = DeepConvNet(nb_classes = 8, Chans = 8, Samples = 350)\n",
        "    model.compile(loss = 'categorical_crossentropy', metrics=['accuracy'],optimizer = Adam(0.0009))\n",
        "    checkpointer = ModelCheckpoint(filepath='saved_models/weights.best.basic_mlp.hdf5', \n",
        "                                  verbose=1, save_best_only=True)\n",
        "\n",
        "    y_train = to_cat(y_train)\n",
        "    y_test = to_cat(y_test)\n",
        "\n",
        "    model.fit(X_train, y_train, batch_size=NUM_BATCH_SIZE, epochs=NUM_EPOCHS, \\\n",
        "              validation_data=(X_test, y_test),callbacks=[checkpointer], verbose=1)\n",
        "\n",
        "    score = model.evaluate(X_test, y_test, verbose=1)\n",
        "    print(score)\n",
        "\n",
        "    models.append(model) # Ke imame 15 modeli neli, pa vo niza se staveni\n",
        "                        # pristap do niv model[i]"
      ],
      "execution_count": null,
      "outputs": []
    },
    {
      "cell_type": "markdown",
      "metadata": {
        "id": "WuiGZk0tw-ep",
        "colab_type": "text"
      },
      "source": [
        "# 6. Тестирање на моделот\n",
        "\n",
        "Тестирање на моделот"
      ]
    },
    {
      "cell_type": "code",
      "metadata": {
        "id": "VZRQXjwZlK_1",
        "colab_type": "code",
        "colab": {},
        "cellView": "both"
      },
      "source": [
        "# Иницијализација на променливите каде ќе бидат вчитани тест податоците\n",
        "runs_per_block = [[i for i in range(3)] for j in range(15)] # Covek, Sesija\n",
        "\n",
        "for participant in range(PARTICIPANT_START, PARTICIPANT_END): # Итерација низ секој испитен примерок\n",
        "  print(f\"============================================================ Учесник ({participant}) ============================================================\")\n",
        "  test_data, test_events = load_test_data(participant)\n",
        "  runs_per_block = load_runs_per_block(participant)\n",
        "\n",
        "  to_predict_data = reshape_data_to_mne_format(test_data)\n",
        "  predictions = models[index].predict(to_predict_data)\n",
        "\n",
        "  print_test_data_info(participant, test_data, test_events, runs_per_block, predictions)\n",
        "\n",
        "  int_pred = np.argmax(predictions, axis=1)\n",
        "  int_ytest = np.argmax(y_test, axis=1)\n",
        "\n",
        "  session_start = 0\n",
        "  start_prediction_index = 0\n",
        "  end_prediction_index = 0\n",
        "  for session in range(0, 3):\n",
        "    print(f\"Сесија ({session}): \", end='')\n",
        "    for block in range(0, 50):    \n",
        "      events_per_block = runs_per_block[participant-1][session]\n",
        "\n",
        "      start_prediction_index = session_start + (block*events_per_block)*8\n",
        "      end_prediction_index = session_start + ((block+1)*events_per_block)*8\n",
        "\n",
        "      block_prediction = int_pred[start_prediction_index:end_prediction_index]\n",
        "      prediction = np.bincount(block_prediction).argmax()\n",
        "\n",
        "      if (block != 49):\n",
        "        print(str(prediction) + \",\", end=\"\")\n",
        "      else:\n",
        "        print(str(prediction))  \n",
        "    session_start = end_prediction_index\n",
        "  print(f\"============================================================ Учесник ({participant}) ============================================================\\n\\n\")"
      ],
      "execution_count": null,
      "outputs": []
    }
  ]
}